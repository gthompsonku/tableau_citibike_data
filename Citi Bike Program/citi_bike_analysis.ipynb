{
 "cells": [
  {
   "cell_type": "code",
   "execution_count": 7,
   "metadata": {},
   "outputs": [],
   "source": [
    "import pandas as pd\n",
    "import numpy as np\n",
    "import glob"
   ]
  },
  {
   "cell_type": "code",
   "execution_count": 8,
   "metadata": {},
   "outputs": [],
   "source": [
    "membership_path = \"data/membership_data/\"\n",
    "jc_path = \"data/trip_data/jersey_city/\"\n",
    "nyc_path=\"data/trip_data/nyc/\""
   ]
  },
  {
   "cell_type": "code",
   "execution_count": 9,
   "metadata": {},
   "outputs": [],
   "source": [
    "#Annual data - combine monthly csv's into one annual csv and export\n",
    "#Only needed once, so it is commented out\n",
    "\n",
    "nyc = pd.concat(map(pd.read_csv, glob.glob('data/trip_data/nyc/*.csv')))\n"
   ]
  },
  {
   "cell_type": "code",
   "execution_count": 12,
   "metadata": {},
   "outputs": [
    {
     "data": {
      "text/plain": [
       "Index(['tripduration', 'starttime', 'stoptime', 'start station id',\n",
       "       'start station name', 'start station latitude',\n",
       "       'start station longitude', 'end station id', 'end station name',\n",
       "       'end station latitude', 'end station longitude', 'bikeid', 'usertype',\n",
       "       'birth year', 'gender'],\n",
       "      dtype='object')"
      ]
     },
     "execution_count": 12,
     "metadata": {},
     "output_type": "execute_result"
    }
   ],
   "source": [
    "nyc.columns"
   ]
  },
  {
   "cell_type": "code",
   "execution_count": 16,
   "metadata": {},
   "outputs": [
    {
     "name": "stdout",
     "output_type": "stream",
     "text": [
      "<class 'pandas.core.frame.DataFrame'>\n",
      "Int64Index: 9241911 entries, 0 to 1897591\n",
      "Data columns (total 15 columns):\n",
      "tripduration               int64\n",
      "starttime                  object\n",
      "stoptime                   object\n",
      "start station id           float64\n",
      "start station name         object\n",
      "start station latitude     float64\n",
      "start station longitude    float64\n",
      "end station id             float64\n",
      "end station name           object\n",
      "end station latitude       float64\n",
      "end station longitude      float64\n",
      "bikeid                     int64\n",
      "usertype                   object\n",
      "birth year                 float64\n",
      "gender                     int64\n",
      "dtypes: float64(7), int64(3), object(5)\n",
      "memory usage: 1.4+ GB\n"
     ]
    }
   ],
   "source": [
    "nyc.info()"
   ]
  },
  {
   "cell_type": "code",
   "execution_count": 21,
   "metadata": {},
   "outputs": [],
   "source": [
    "nyc['age']=2020-nyc['birth year']"
   ]
  },
  {
   "cell_type": "code",
   "execution_count": 22,
   "metadata": {},
   "outputs": [
    {
     "data": {
      "text/html": [
       "<div>\n",
       "<style scoped>\n",
       "    .dataframe tbody tr th:only-of-type {\n",
       "        vertical-align: middle;\n",
       "    }\n",
       "\n",
       "    .dataframe tbody tr th {\n",
       "        vertical-align: top;\n",
       "    }\n",
       "\n",
       "    .dataframe thead th {\n",
       "        text-align: right;\n",
       "    }\n",
       "</style>\n",
       "<table border=\"1\" class=\"dataframe\">\n",
       "  <thead>\n",
       "    <tr style=\"text-align: right;\">\n",
       "      <th></th>\n",
       "      <th>tripduration</th>\n",
       "      <th>starttime</th>\n",
       "      <th>stoptime</th>\n",
       "      <th>start station id</th>\n",
       "      <th>start station name</th>\n",
       "      <th>start station latitude</th>\n",
       "      <th>start station longitude</th>\n",
       "      <th>end station id</th>\n",
       "      <th>end station name</th>\n",
       "      <th>end station latitude</th>\n",
       "      <th>end station longitude</th>\n",
       "      <th>bikeid</th>\n",
       "      <th>usertype</th>\n",
       "      <th>birth year</th>\n",
       "      <th>gender</th>\n",
       "      <th>age</th>\n",
       "    </tr>\n",
       "  </thead>\n",
       "  <tbody>\n",
       "    <tr>\n",
       "      <th>0</th>\n",
       "      <td>816</td>\n",
       "      <td>2018-03-01 02:29:13.7270</td>\n",
       "      <td>2018-03-01 02:42:50.1460</td>\n",
       "      <td>72.0</td>\n",
       "      <td>W 52 St &amp; 11 Ave</td>\n",
       "      <td>40.767272</td>\n",
       "      <td>-73.993929</td>\n",
       "      <td>379.0</td>\n",
       "      <td>W 31 St &amp; 7 Ave</td>\n",
       "      <td>40.749156</td>\n",
       "      <td>-73.991600</td>\n",
       "      <td>31413</td>\n",
       "      <td>Subscriber</td>\n",
       "      <td>1973.0</td>\n",
       "      <td>1</td>\n",
       "      <td>47.0</td>\n",
       "    </tr>\n",
       "    <tr>\n",
       "      <th>1</th>\n",
       "      <td>235</td>\n",
       "      <td>2018-03-01 05:12:37.0320</td>\n",
       "      <td>2018-03-01 05:16:32.1010</td>\n",
       "      <td>72.0</td>\n",
       "      <td>W 52 St &amp; 11 Ave</td>\n",
       "      <td>40.767272</td>\n",
       "      <td>-73.993929</td>\n",
       "      <td>478.0</td>\n",
       "      <td>11 Ave &amp; W 41 St</td>\n",
       "      <td>40.760301</td>\n",
       "      <td>-73.998842</td>\n",
       "      <td>33202</td>\n",
       "      <td>Subscriber</td>\n",
       "      <td>1965.0</td>\n",
       "      <td>1</td>\n",
       "      <td>55.0</td>\n",
       "    </tr>\n",
       "    <tr>\n",
       "      <th>2</th>\n",
       "      <td>1250</td>\n",
       "      <td>2018-03-01 05:45:49.9000</td>\n",
       "      <td>2018-03-01 06:06:39.9080</td>\n",
       "      <td>72.0</td>\n",
       "      <td>W 52 St &amp; 11 Ave</td>\n",
       "      <td>40.767272</td>\n",
       "      <td>-73.993929</td>\n",
       "      <td>3664.0</td>\n",
       "      <td>North Moore St &amp; Greenwich St</td>\n",
       "      <td>40.720195</td>\n",
       "      <td>-74.010301</td>\n",
       "      <td>26675</td>\n",
       "      <td>Subscriber</td>\n",
       "      <td>1984.0</td>\n",
       "      <td>1</td>\n",
       "      <td>36.0</td>\n",
       "    </tr>\n",
       "    <tr>\n",
       "      <th>3</th>\n",
       "      <td>741</td>\n",
       "      <td>2018-03-01 06:54:19.6150</td>\n",
       "      <td>2018-03-01 07:06:40.9790</td>\n",
       "      <td>72.0</td>\n",
       "      <td>W 52 St &amp; 11 Ave</td>\n",
       "      <td>40.767272</td>\n",
       "      <td>-73.993929</td>\n",
       "      <td>459.0</td>\n",
       "      <td>W 20 St &amp; 11 Ave</td>\n",
       "      <td>40.746745</td>\n",
       "      <td>-74.007756</td>\n",
       "      <td>31011</td>\n",
       "      <td>Subscriber</td>\n",
       "      <td>1981.0</td>\n",
       "      <td>1</td>\n",
       "      <td>39.0</td>\n",
       "    </tr>\n",
       "    <tr>\n",
       "      <th>4</th>\n",
       "      <td>727</td>\n",
       "      <td>2018-03-01 07:08:38.8610</td>\n",
       "      <td>2018-03-01 07:20:46.8500</td>\n",
       "      <td>72.0</td>\n",
       "      <td>W 52 St &amp; 11 Ave</td>\n",
       "      <td>40.767272</td>\n",
       "      <td>-73.993929</td>\n",
       "      <td>2006.0</td>\n",
       "      <td>Central Park S &amp; 6 Ave</td>\n",
       "      <td>40.765909</td>\n",
       "      <td>-73.976342</td>\n",
       "      <td>30616</td>\n",
       "      <td>Subscriber</td>\n",
       "      <td>1990.0</td>\n",
       "      <td>2</td>\n",
       "      <td>30.0</td>\n",
       "    </tr>\n",
       "  </tbody>\n",
       "</table>\n",
       "</div>"
      ],
      "text/plain": [
       "   tripduration                 starttime                  stoptime  \\\n",
       "0           816  2018-03-01 02:29:13.7270  2018-03-01 02:42:50.1460   \n",
       "1           235  2018-03-01 05:12:37.0320  2018-03-01 05:16:32.1010   \n",
       "2          1250  2018-03-01 05:45:49.9000  2018-03-01 06:06:39.9080   \n",
       "3           741  2018-03-01 06:54:19.6150  2018-03-01 07:06:40.9790   \n",
       "4           727  2018-03-01 07:08:38.8610  2018-03-01 07:20:46.8500   \n",
       "\n",
       "   start station id start station name  start station latitude  \\\n",
       "0              72.0   W 52 St & 11 Ave               40.767272   \n",
       "1              72.0   W 52 St & 11 Ave               40.767272   \n",
       "2              72.0   W 52 St & 11 Ave               40.767272   \n",
       "3              72.0   W 52 St & 11 Ave               40.767272   \n",
       "4              72.0   W 52 St & 11 Ave               40.767272   \n",
       "\n",
       "   start station longitude  end station id               end station name  \\\n",
       "0               -73.993929           379.0                W 31 St & 7 Ave   \n",
       "1               -73.993929           478.0               11 Ave & W 41 St   \n",
       "2               -73.993929          3664.0  North Moore St & Greenwich St   \n",
       "3               -73.993929           459.0               W 20 St & 11 Ave   \n",
       "4               -73.993929          2006.0         Central Park S & 6 Ave   \n",
       "\n",
       "   end station latitude  end station longitude  bikeid    usertype  \\\n",
       "0             40.749156             -73.991600   31413  Subscriber   \n",
       "1             40.760301             -73.998842   33202  Subscriber   \n",
       "2             40.720195             -74.010301   26675  Subscriber   \n",
       "3             40.746745             -74.007756   31011  Subscriber   \n",
       "4             40.765909             -73.976342   30616  Subscriber   \n",
       "\n",
       "   birth year  gender   age  \n",
       "0      1973.0       1  47.0  \n",
       "1      1965.0       1  55.0  \n",
       "2      1984.0       1  36.0  \n",
       "3      1981.0       1  39.0  \n",
       "4      1990.0       2  30.0  "
      ]
     },
     "execution_count": 22,
     "metadata": {},
     "output_type": "execute_result"
    }
   ],
   "source": [
    "nyc.head()"
   ]
  },
  {
   "cell_type": "code",
   "execution_count": 24,
   "metadata": {},
   "outputs": [],
   "source": [
    "nyc = nyc.drop(['birth year'], axis=1)"
   ]
  },
  {
   "cell_type": "code",
   "execution_count": 25,
   "metadata": {},
   "outputs": [
    {
     "data": {
      "text/html": [
       "<div>\n",
       "<style scoped>\n",
       "    .dataframe tbody tr th:only-of-type {\n",
       "        vertical-align: middle;\n",
       "    }\n",
       "\n",
       "    .dataframe tbody tr th {\n",
       "        vertical-align: top;\n",
       "    }\n",
       "\n",
       "    .dataframe thead th {\n",
       "        text-align: right;\n",
       "    }\n",
       "</style>\n",
       "<table border=\"1\" class=\"dataframe\">\n",
       "  <thead>\n",
       "    <tr style=\"text-align: right;\">\n",
       "      <th></th>\n",
       "      <th>tripduration</th>\n",
       "      <th>starttime</th>\n",
       "      <th>stoptime</th>\n",
       "      <th>start station id</th>\n",
       "      <th>start station name</th>\n",
       "      <th>start station latitude</th>\n",
       "      <th>start station longitude</th>\n",
       "      <th>end station id</th>\n",
       "      <th>end station name</th>\n",
       "      <th>end station latitude</th>\n",
       "      <th>end station longitude</th>\n",
       "      <th>bikeid</th>\n",
       "      <th>usertype</th>\n",
       "      <th>gender</th>\n",
       "      <th>age</th>\n",
       "    </tr>\n",
       "  </thead>\n",
       "  <tbody>\n",
       "    <tr>\n",
       "      <th>0</th>\n",
       "      <td>816</td>\n",
       "      <td>2018-03-01 02:29:13.7270</td>\n",
       "      <td>2018-03-01 02:42:50.1460</td>\n",
       "      <td>72.0</td>\n",
       "      <td>W 52 St &amp; 11 Ave</td>\n",
       "      <td>40.767272</td>\n",
       "      <td>-73.993929</td>\n",
       "      <td>379.0</td>\n",
       "      <td>W 31 St &amp; 7 Ave</td>\n",
       "      <td>40.749156</td>\n",
       "      <td>-73.991600</td>\n",
       "      <td>31413</td>\n",
       "      <td>Subscriber</td>\n",
       "      <td>1</td>\n",
       "      <td>47.0</td>\n",
       "    </tr>\n",
       "    <tr>\n",
       "      <th>1</th>\n",
       "      <td>235</td>\n",
       "      <td>2018-03-01 05:12:37.0320</td>\n",
       "      <td>2018-03-01 05:16:32.1010</td>\n",
       "      <td>72.0</td>\n",
       "      <td>W 52 St &amp; 11 Ave</td>\n",
       "      <td>40.767272</td>\n",
       "      <td>-73.993929</td>\n",
       "      <td>478.0</td>\n",
       "      <td>11 Ave &amp; W 41 St</td>\n",
       "      <td>40.760301</td>\n",
       "      <td>-73.998842</td>\n",
       "      <td>33202</td>\n",
       "      <td>Subscriber</td>\n",
       "      <td>1</td>\n",
       "      <td>55.0</td>\n",
       "    </tr>\n",
       "    <tr>\n",
       "      <th>2</th>\n",
       "      <td>1250</td>\n",
       "      <td>2018-03-01 05:45:49.9000</td>\n",
       "      <td>2018-03-01 06:06:39.9080</td>\n",
       "      <td>72.0</td>\n",
       "      <td>W 52 St &amp; 11 Ave</td>\n",
       "      <td>40.767272</td>\n",
       "      <td>-73.993929</td>\n",
       "      <td>3664.0</td>\n",
       "      <td>North Moore St &amp; Greenwich St</td>\n",
       "      <td>40.720195</td>\n",
       "      <td>-74.010301</td>\n",
       "      <td>26675</td>\n",
       "      <td>Subscriber</td>\n",
       "      <td>1</td>\n",
       "      <td>36.0</td>\n",
       "    </tr>\n",
       "    <tr>\n",
       "      <th>3</th>\n",
       "      <td>741</td>\n",
       "      <td>2018-03-01 06:54:19.6150</td>\n",
       "      <td>2018-03-01 07:06:40.9790</td>\n",
       "      <td>72.0</td>\n",
       "      <td>W 52 St &amp; 11 Ave</td>\n",
       "      <td>40.767272</td>\n",
       "      <td>-73.993929</td>\n",
       "      <td>459.0</td>\n",
       "      <td>W 20 St &amp; 11 Ave</td>\n",
       "      <td>40.746745</td>\n",
       "      <td>-74.007756</td>\n",
       "      <td>31011</td>\n",
       "      <td>Subscriber</td>\n",
       "      <td>1</td>\n",
       "      <td>39.0</td>\n",
       "    </tr>\n",
       "    <tr>\n",
       "      <th>4</th>\n",
       "      <td>727</td>\n",
       "      <td>2018-03-01 07:08:38.8610</td>\n",
       "      <td>2018-03-01 07:20:46.8500</td>\n",
       "      <td>72.0</td>\n",
       "      <td>W 52 St &amp; 11 Ave</td>\n",
       "      <td>40.767272</td>\n",
       "      <td>-73.993929</td>\n",
       "      <td>2006.0</td>\n",
       "      <td>Central Park S &amp; 6 Ave</td>\n",
       "      <td>40.765909</td>\n",
       "      <td>-73.976342</td>\n",
       "      <td>30616</td>\n",
       "      <td>Subscriber</td>\n",
       "      <td>2</td>\n",
       "      <td>30.0</td>\n",
       "    </tr>\n",
       "  </tbody>\n",
       "</table>\n",
       "</div>"
      ],
      "text/plain": [
       "   tripduration                 starttime                  stoptime  \\\n",
       "0           816  2018-03-01 02:29:13.7270  2018-03-01 02:42:50.1460   \n",
       "1           235  2018-03-01 05:12:37.0320  2018-03-01 05:16:32.1010   \n",
       "2          1250  2018-03-01 05:45:49.9000  2018-03-01 06:06:39.9080   \n",
       "3           741  2018-03-01 06:54:19.6150  2018-03-01 07:06:40.9790   \n",
       "4           727  2018-03-01 07:08:38.8610  2018-03-01 07:20:46.8500   \n",
       "\n",
       "   start station id start station name  start station latitude  \\\n",
       "0              72.0   W 52 St & 11 Ave               40.767272   \n",
       "1              72.0   W 52 St & 11 Ave               40.767272   \n",
       "2              72.0   W 52 St & 11 Ave               40.767272   \n",
       "3              72.0   W 52 St & 11 Ave               40.767272   \n",
       "4              72.0   W 52 St & 11 Ave               40.767272   \n",
       "\n",
       "   start station longitude  end station id               end station name  \\\n",
       "0               -73.993929           379.0                W 31 St & 7 Ave   \n",
       "1               -73.993929           478.0               11 Ave & W 41 St   \n",
       "2               -73.993929          3664.0  North Moore St & Greenwich St   \n",
       "3               -73.993929           459.0               W 20 St & 11 Ave   \n",
       "4               -73.993929          2006.0         Central Park S & 6 Ave   \n",
       "\n",
       "   end station latitude  end station longitude  bikeid    usertype  gender  \\\n",
       "0             40.749156             -73.991600   31413  Subscriber       1   \n",
       "1             40.760301             -73.998842   33202  Subscriber       1   \n",
       "2             40.720195             -74.010301   26675  Subscriber       1   \n",
       "3             40.746745             -74.007756   31011  Subscriber       1   \n",
       "4             40.765909             -73.976342   30616  Subscriber       2   \n",
       "\n",
       "    age  \n",
       "0  47.0  \n",
       "1  55.0  \n",
       "2  36.0  \n",
       "3  39.0  \n",
       "4  30.0  "
      ]
     },
     "execution_count": 25,
     "metadata": {},
     "output_type": "execute_result"
    }
   ],
   "source": [
    "nyc.head()"
   ]
  },
  {
   "cell_type": "code",
   "execution_count": 26,
   "metadata": {},
   "outputs": [],
   "source": [
    "#write to csv \n",
    "nyc.to_csv('data/trip_data/nyc/nyc_data.csv', index=False)"
   ]
  },
  {
   "cell_type": "code",
   "execution_count": null,
   "metadata": {},
   "outputs": [],
   "source": [
    "#ny18 = pd.read_csv(nyc_path+\"NYC_annual_2018.csv\")"
   ]
  },
  {
   "cell_type": "code",
   "execution_count": 4,
   "metadata": {},
   "outputs": [],
   "source": [
    "ny19=pd.read_csv(nyc_path+\"NYC_annual_2019.csv\")"
   ]
  },
  {
   "cell_type": "code",
   "execution_count": 5,
   "metadata": {},
   "outputs": [
    {
     "name": "stdout",
     "output_type": "stream",
     "text": [
      "<class 'pandas.core.frame.DataFrame'>\n",
      "RangeIndex: 20551697 entries, 0 to 20551696\n",
      "Data columns (total 15 columns):\n",
      "tripduration               int64\n",
      "starttime                  object\n",
      "stoptime                   object\n",
      "start station id           float64\n",
      "start station name         object\n",
      "start station latitude     float64\n",
      "start station longitude    float64\n",
      "end station id             float64\n",
      "end station name           object\n",
      "end station latitude       float64\n",
      "end station longitude      float64\n",
      "bikeid                     int64\n",
      "usertype                   object\n",
      "birth year                 int64\n",
      "gender                     int64\n",
      "dtypes: float64(6), int64(4), object(5)\n",
      "memory usage: 2.3+ GB\n"
     ]
    }
   ],
   "source": [
    "ny19.info()"
   ]
  },
  {
   "cell_type": "code",
   "execution_count": 6,
   "metadata": {},
   "outputs": [
    {
     "data": {
      "text/plain": [
       "20551697"
      ]
     },
     "execution_count": 6,
     "metadata": {},
     "output_type": "execute_result"
    }
   ],
   "source": [
    "len(ny19)"
   ]
  },
  {
   "cell_type": "code",
   "execution_count": null,
   "metadata": {},
   "outputs": [],
   "source": []
  },
  {
   "cell_type": "code",
   "execution_count": null,
   "metadata": {},
   "outputs": [],
   "source": []
  },
  {
   "cell_type": "code",
   "execution_count": 92,
   "metadata": {},
   "outputs": [],
   "source": [
    "column_rename={'Bike ID':'bikeid', 'Birth Year':'birth year', 'End Station ID':'end station id', 'End Station Latitude':'end station latitude',\n",
    "       'End Station Longitude':'end station latitude', 'End Station Name':'end station name', 'Gender':'gender',\n",
    "       'Start Station ID':'start station id', 'Start Station Latitude':'start station latitude', 'Start Station Longitude':'start station longitude',\n",
    "       'Start Station Name':'start station name', 'Start Time':'starttime', 'Stop Time':'stoptime', 'Trip Duration':'tripduration',\n",
    "       'User Type':'usertype'}"
   ]
  },
  {
   "cell_type": "code",
   "execution_count": 89,
   "metadata": {},
   "outputs": [],
   "source": [
    "data_types = { \n",
    "\"tripduration\":np.int32,\n",
    "\"starttime\":object,\n",
    "\"stoptime\":object,\n",
    "\"start station id\":np.int32,\n",
    "\"start station name\":object,\n",
    "\"start station latitude\":np.float64,\n",
    "\"start station longitude\":np.float64,\n",
    "\"end station id\":np.int32,\n",
    "\"end station name\":object,\n",
    "\"end station latitude\":np.float64,\n",
    "\"end station longitude\":np.float64,\n",
    "\"bikeid\":np.int32,\n",
    "\"usertype\":object,\n",
    "\"birth year\":np.int32,\n",
    "\"gender\":np.int32}"
   ]
  },
  {
   "cell_type": "code",
   "execution_count": null,
   "metadata": {},
   "outputs": [],
   "source": []
  }
 ],
 "metadata": {
  "kernelspec": {
   "display_name": "Python 3",
   "language": "python",
   "name": "python3"
  },
  "language_info": {
   "codemirror_mode": {
    "name": "ipython",
    "version": 3
   },
   "file_extension": ".py",
   "mimetype": "text/x-python",
   "name": "python",
   "nbconvert_exporter": "python",
   "pygments_lexer": "ipython3",
   "version": "3.6.3"
  }
 },
 "nbformat": 4,
 "nbformat_minor": 2
}
